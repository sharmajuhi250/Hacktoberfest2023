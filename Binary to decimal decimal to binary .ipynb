{
 "cells": [
  {
   "cell_type": "code",
   "execution_count": 6,
   "id": "d7afc146",
   "metadata": {},
   "outputs": [
    {
     "name": "stderr",
     "output_type": "stream",
     "text": [
      "Exception in Tkinter callback\n",
      "Traceback (most recent call last):\n",
      "  File \"C:\\Users\\Asus\\AppData\\Local\\Temp\\ipykernel_5952\\2157769640.py\", line 14, in binary_to_decimal\n",
      "    decimal_num = int(binary_num,2)\n",
      "                  ^^^^^^^^^^^^^^^^^\n",
      "ValueError: invalid literal for int() with base 2: ''\n",
      "\n",
      "During handling of the above exception, another exception occurred:\n",
      "\n",
      "Traceback (most recent call last):\n",
      "  File \"C:\\Users\\Asus\\anaconda3\\Lib\\tkinter\\__init__.py\", line 1948, in __call__\n",
      "    return self.func(*args)\n",
      "           ^^^^^^^^^^^^^^^^\n",
      "  File \"C:\\Users\\Asus\\AppData\\Local\\Temp\\ipykernel_5952\\2157769640.py\", line 17, in binary_to_decimal\n",
      "    outputlabel.config(text=\"Invalid input. Please enter a valid Binary number.\")\n",
      "    ^^^^^^^^^^^\n",
      "NameError: name 'outputlabel' is not defined\n"
     ]
    }
   ],
   "source": [
    "import tkinter as tk\n",
    "\n",
    "def decimal_to_binary():\n",
    "    try:\n",
    "        decimal_num = int(input_field.get())\n",
    "        binary_num = bin(decimal_num).replace(\"0b\",\"\")\n",
    "        output_label.config(text=f\"Binary: {binary_num}\")\n",
    "    except ValueError:\n",
    "        output_label.config(text=\"Invalid input.Please enter a decimal number.\")\n",
    "\n",
    "def binary_to_decimal():\n",
    "    try:\n",
    "        binary_num = input_field.get()\n",
    "        decimal_num = int(binary_num,2)\n",
    "        output_label.config(text=f\"Decimal: {decimal_num}\")\n",
    "    except ValueError:\n",
    "        outputlabel.config(text=\"Invalid input. Please enter a valid Binary number.\")\n",
    "        \n",
    "def clear_output():\n",
    "    output_label.config(text=\" \")\n",
    "    \n",
    "root = tk.Tk()\n",
    "root.title(\"Binary-Decimal Converter\")\n",
    "\n",
    "menu_frame = tk.Frame(root)\n",
    "menu_frame.pack()\n",
    "\n",
    "decimal_to_binary_button = tk.Button(menu_frame, text=\"Decimal to Binary\", command=decimal_to_binary)\n",
    "decimal_to_binary_button.pack(side=tk.LEFT)\n",
    "\n",
    "binary_to_decimal_button = tk.Button(menu_frame, text=\"Binary to Decimal\", command=binary_to_decimal)\n",
    "binary_to_decimal_button.pack(side=tk.LEFT)\n",
    "\n",
    "clear_button = tk.Button(root, text=\"Clear\", command=clear_output)\n",
    "clear_button.pack()\n",
    "\n",
    "input_field = tk.Entry(root)\n",
    "input_field.pack()\n",
    "\n",
    "convert_button = tk.Button(root, text=\"Convert\", command=lambda: None)  # Placeholder for now\n",
    "convert_button.pack()\n",
    "\n",
    "output_label = tk.Label(root, text=\"\", pady=10)\n",
    "output_label.pack()\n",
    "\n",
    "root.mainloop()\n",
    "        \n"
   ]
  },
  {
   "cell_type": "code",
   "execution_count": null,
   "id": "32a60c72",
   "metadata": {},
   "outputs": [],
   "source": []
  }
 ],
 "metadata": {
  "kernelspec": {
   "display_name": "Python 3 (ipykernel)",
   "language": "python",
   "name": "python3"
  },
  "language_info": {
   "codemirror_mode": {
    "name": "ipython",
    "version": 3
   },
   "file_extension": ".py",
   "mimetype": "text/x-python",
   "name": "python",
   "nbconvert_exporter": "python",
   "pygments_lexer": "ipython3",
   "version": "3.11.5"
  }
 },
 "nbformat": 4,
 "nbformat_minor": 5
}
